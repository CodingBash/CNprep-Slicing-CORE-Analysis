{
 "cells": [
  {
   "cell_type": "markdown",
   "metadata": {},
   "source": [
    "# Visualize and compare COREs from slicing output"
   ]
  },
  {
   "cell_type": "markdown",
   "metadata": {},
   "source": [
    "### Load Sources"
   ]
  },
  {
   "cell_type": "code",
   "execution_count": 2,
   "metadata": {},
   "outputs": [],
   "source": [
    "#\n",
    "# Compare COREs and their scores across different implementations\n",
    "#\n",
    "\n",
    "setwd(\"~/Documents/Git-Projects/Git-Research-Projects/CNprep-Slicing-CORE-Analysis/\")\n",
    "source(\"analysis/genomicFeatureAssignment.R\") # For retrieval of COREs"
   ]
  },
  {
   "cell_type": "markdown",
   "metadata": {},
   "source": [
    "### Set parameters"
   ]
  },
  {
   "cell_type": "code",
   "execution_count": 11,
   "metadata": {},
   "outputs": [],
   "source": [
    "chromosomeSizes <- readRDS(\"./resources/chromosomeSizes.rds\")\n",
    "\n",
    "events <- c(\"A\", \"D\", \"AD\")\n",
    "output <- \"output/coresResults\"\n",
    "dirs <- c(\"prev_run1_1\", \"prev_run_7_28_2018_x_1\")\n",
    "\n",
    "x0 <- c()\n",
    "x1 <- c()\n",
    "y <- c()"
   ]
  },
  {
   "cell_type": "markdown",
   "metadata": {},
   "source": [
    "### Create function to visualize"
   ]
  },
  {
   "cell_type": "code",
   "execution_count": 20,
   "metadata": {},
   "outputs": [],
   "source": [
    "visualizeCores <- function(event, output, dirs, chromosomeSizes) {\n",
    "  x0 <- c()\n",
    "  x1 <- c()\n",
    "  y <- c()\n",
    "  for(dir.i in seq_along(dirs)){\n",
    "    outputBed <- paste0(\"./\", output, \"/\", dirs[dir.i], \"/selectedCores/\", event, \"selectedCoresBP.bed\") # CORES must be same file name\n",
    "    cores <- retrieveCores(outputBed) # BED file of amplification recurrent regions  \n",
    "    cores <- chromsomeToAbsoluteBPConversion(cores, chromosomeSizes)\n",
    "    coresStart <- cores[[2]]\n",
    "    coresEnd <- cores[[3]]\n",
    "    coresScore <- cores[[4]]\n",
    "    x0[[dir.i]] <- coresStart\n",
    "    x1[[dir.i]] <- coresEnd\n",
    "    y[[dir.i]] <- coresScore\n",
    "  }\n",
    "  \n",
    "  \n",
    "  plot(range(c(x0, x1)), range(y), type=\"n\", main=paste0(\"event= \", event), xlab = \"absolute bp\", ylab=\"score\")\n",
    "  for(i in seq_along(dirs)){\n",
    "    segments(x0=x0[[i]], x1=x1[[i]], y0=y[[i]], y1=y[[i]], col = i, lwd = 4)\n",
    "  }\n",
    "  \n",
    "  for(chrom.i in seq(nrow(chromosomeSizes))){\n",
    "    abline(v=sum(as.numeric(sapply(seq(chrom.i), function(chrom.j){\n",
    "      return(chromosomeSizes[chrom.j, ]$size)\n",
    "    }))))\n",
    "  }\n",
    "  legend(\"topleft\", legend=dirs, col = seq_along(dirs), lty=1, cex=0.8)\n",
    "}\n"
   ]
  },
  {
   "cell_type": "markdown",
   "metadata": {},
   "source": [
    "### Visualize profile for each event: amplification, deletion, and modification (both)"
   ]
  },
  {
   "cell_type": "code",
   "execution_count": 26,
   "metadata": {},
   "outputs": [
    {
     "data": {
      "image/png": "[encoded data removed]",
      "text/plain": [
       "Plot with title \"event= D\""
      ]
     },
     "metadata": {},
     "output_type": "display_data",
     "source": "R display func"
    },
    {
     "data": {
      "image/png": "[encoded data removed]",
      "text/plain": [
       "Plot with title \"event= D\""
      ]
     },
     "metadata": {},
     "output_type": "display_data",
     "source": "R display func"
    }
   ],
   "source": [
    "options(repr.plot.width=10, repr.plot.height=3)\n",
    "events <- c(\"D\")\n",
    "dirs <- c(\"prev_run1_1\")\n",
    "for(event in events){\n",
    "    visualizeCores(event, output, dirs, chromosomeSizes)\n",
    "}\n",
    "\n",
    "dirs <- c(\"prev_run_7_28_2018_x_1\")\n",
    "for(event in events){\n",
    "    visualizeCores(event, output, dirs, chromosomeSizes)\n",
    "}"
   ]
  },
  {
   "cell_type": "code",
   "execution_count": null,
   "metadata": {},
   "outputs": [],
   "source": []
  }
 ],
 "metadata": {
  "kernelspec": {
   "display_name": "R",
   "language": "R",
   "name": "ir"
  },
  "language_info": {
   "codemirror_mode": "r",
   "file_extension": ".r",
   "mimetype": "text/x-r-source",
   "name": "R",
   "pygments_lexer": "r",
   "version": "3.4.3"
  }
 },
 "nbformat": 4,
 "nbformat_minor": 2
}
